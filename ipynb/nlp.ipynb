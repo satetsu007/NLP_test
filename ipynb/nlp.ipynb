{
 "cells": [
  {
   "cell_type": "markdown",
   "metadata": {},
   "source": [
    "各種ライブラリのインポート"
   ]
  },
  {
   "cell_type": "code",
   "execution_count": 1,
   "metadata": {
    "collapsed": false
   },
   "outputs": [],
   "source": [
    "import pandas as pd\n",
    "import MeCab"
   ]
  },
  {
   "cell_type": "markdown",
   "metadata": {},
   "source": [
    "データセットの下準備"
   ]
  },
  {
   "cell_type": "code",
   "execution_count": 2,
   "metadata": {
    "collapsed": false
   },
   "outputs": [],
   "source": [
    "df = pd.read_csv(\"../data/database_utf8.csv\")\n",
    "df = df.iloc[:, 1:]\n",
    "df.file_name = [i.replace(\"../data/individual_stock_else/SMBC/pdf\", \"../data\") for i in df.file_name]\n",
    "df.file_name = [i.replace(\"pdf\", \"txt\") for i in df.file_name]"
   ]
  },
  {
   "cell_type": "markdown",
   "metadata": {},
   "source": [
    "データフレームに本文を追加する"
   ]
  },
  {
   "cell_type": "code",
   "execution_count": 3,
   "metadata": {
    "collapsed": false,
    "scrolled": true
   },
   "outputs": [],
   "source": [
    "text = []\n",
    "for file_name in df.file_name:\n",
    "    f = open(file_name)\n",
    "    text.append(f.read())\n",
    "    f.close()"
   ]
  },
  {
   "cell_type": "code",
   "execution_count": 4,
   "metadata": {
    "collapsed": false
   },
   "outputs": [],
   "source": [
    "df[\"text\"] = text\n",
    "df[\"wakati_file_name\"] = [file_name.replace(\".txt\", \"_wakati.txt\") for file_name in df.file_name]"
   ]
  },
  {
   "cell_type": "markdown",
   "metadata": {},
   "source": [
    "データフレームに形態素解析結果(分かち書き)を追加する"
   ]
  },
  {
   "cell_type": "code",
   "execution_count": 5,
   "metadata": {
    "collapsed": false
   },
   "outputs": [],
   "source": [
    "t = MeCab.Tagger(\"-Owakati\")\n",
    "morphs = [t.parse(text) for text in df.text]\n",
    "df[\"wakati_text\"] = morphs"
   ]
  },
  {
   "cell_type": "code",
   "execution_count": 6,
   "metadata": {
    "collapsed": false
   },
   "outputs": [
    {
     "data": {
      "text/html": [
       "<div>\n",
       "<style>\n",
       "    .dataframe thead tr:only-child th {\n",
       "        text-align: right;\n",
       "    }\n",
       "\n",
       "    .dataframe thead th {\n",
       "        text-align: left;\n",
       "    }\n",
       "\n",
       "    .dataframe tbody tr th {\n",
       "        vertical-align: top;\n",
       "    }\n",
       "</style>\n",
       "<table border=\"1\" class=\"dataframe\">\n",
       "  <thead>\n",
       "    <tr style=\"text-align: right;\">\n",
       "      <th></th>\n",
       "      <th>stock_name</th>\n",
       "      <th>title</th>\n",
       "      <th>publish_day</th>\n",
       "      <th>analyst</th>\n",
       "      <th>rating</th>\n",
       "      <th>rating_change</th>\n",
       "      <th>file_name</th>\n",
       "      <th>text</th>\n",
       "      <th>wakati_file_name</th>\n",
       "      <th>wakati_text</th>\n",
       "    </tr>\n",
       "  </thead>\n",
       "  <tbody>\n",
       "    <tr>\n",
       "      <th>0</th>\n",
       "      <td>商船三井（9104）</td>\n",
       "      <td>商船三井：ドライ市況の水準低下でプレミアムバリュエーション剥落へ(9月24日)／商船三井(9...</td>\n",
       "      <td>2010/9/24</td>\n",
       "      <td>板?ｱ王亮/星川織乃</td>\n",
       "      <td>2</td>\n",
       "      <td>新規格付</td>\n",
       "      <td>../data/individual_stock/0/2010111013342300.txt</td>\n",
       "      <td>\\nReport /日本  /運輸･倉庫 \\n\\n商船三井（9104） \\n新規カバレッジ...</td>\n",
       "      <td>../data/individual_stock/0/2010111013342300_wa...</td>\n",
       "      <td>Report / 日本 / 運輸 ･ 倉庫 商船 三井 （ 9104 ） 新規 カバレッジ ...</td>\n",
       "    </tr>\n",
       "    <tr>\n",
       "      <th>1</th>\n",
       "      <td>川崎汽船（9107）</td>\n",
       "      <td>川崎汽船：コンテナ事業の影響大きく株価は上値の重い展開を予想(9月24日)／川崎船(9107)</td>\n",
       "      <td>2010/9/24</td>\n",
       "      <td>板?ｱ王亮/星川織乃</td>\n",
       "      <td>2</td>\n",
       "      <td>新規格付</td>\n",
       "      <td>../data/individual_stock/0/2010111013346000.txt</td>\n",
       "      <td>\\nReport /日本  /運輸･倉庫 \\n\\n川崎汽船（9107） \\n新規カバレッジ...</td>\n",
       "      <td>../data/individual_stock/0/2010111013346000_wa...</td>\n",
       "      <td>Report / 日本 / 運輸 ･ 倉庫 川崎汽船 （ 9107 ） 新規 カバレッジ コ...</td>\n",
       "    </tr>\n",
       "    <tr>\n",
       "      <th>2</th>\n",
       "      <td>日本郵船（9101）</td>\n",
       "      <td>日本郵船：10年ぶりのROE逆転でバリュエーション格差解消へ(9月24日)／郵船(9101)</td>\n",
       "      <td>2010/9/24</td>\n",
       "      <td>板?ｱ王亮/星川織乃</td>\n",
       "      <td>1</td>\n",
       "      <td>新規格付</td>\n",
       "      <td>../data/individual_stock/0/2010111013349200.txt</td>\n",
       "      <td>\\nReport /日本  /運輸･倉庫 \\n\\n日本郵船（9101） \\n新規カバレッジ...</td>\n",
       "      <td>../data/individual_stock/0/2010111013349200_wa...</td>\n",
       "      <td>Report / 日本 / 運輸 ･ 倉庫 日本郵船 （ 9101 ） 新規 カバレッジ 1...</td>\n",
       "    </tr>\n",
       "    <tr>\n",
       "      <th>3</th>\n",
       "      <td>川崎汽船（9107）</td>\n",
       "      <td>川崎汽船：2Q決算は会社計画比小幅上振れを予想(9月29日)／川崎船(9107)</td>\n",
       "      <td>2010/9/29</td>\n",
       "      <td>板?ｱ王亮/星川織乃</td>\n",
       "      <td>2</td>\n",
       "      <td>変更無し</td>\n",
       "      <td>../data/individual_stock/0/2010111013350800.txt</td>\n",
       "      <td>\\nPreview /日本  /運輸･倉庫 \\n\\n川崎汽船（9107） \\n決算プレビュ...</td>\n",
       "      <td>../data/individual_stock/0/2010111013350800_wa...</td>\n",
       "      <td>Preview / 日本 / 運輸 ･ 倉庫 川崎汽船 （ 9107 ） 決算 プレビュー ...</td>\n",
       "    </tr>\n",
       "    <tr>\n",
       "      <th>4</th>\n",
       "      <td>伊藤忠商事（8001）</td>\n",
       "      <td>伊藤忠商事：バランス型でディフェンシブ。中国中心にアジアの商圏拡大先行(10月1日)／伊藤忠...</td>\n",
       "      <td>2010/10/1</td>\n",
       "      <td>村上貴史/柴山友希</td>\n",
       "      <td>2</td>\n",
       "      <td>新規格付</td>\n",
       "      <td>../data/individual_stock/0/2010111013358500.txt</td>\n",
       "      <td>\\nReport /日本  /商社 \\n\\n伊藤忠商事（8001） \\n新規カバレッジ \\...</td>\n",
       "      <td>../data/individual_stock/0/2010111013358500_wa...</td>\n",
       "      <td>Report / 日本 / 商社 伊藤忠商事 （ 8001 ） 新規 カバレッジ バランス ...</td>\n",
       "    </tr>\n",
       "  </tbody>\n",
       "</table>\n",
       "</div>"
      ],
      "text/plain": [
       "    stock_name                                              title publish_day  \\\n",
       "0   商船三井（9104）  商船三井：ドライ市況の水準低下でプレミアムバリュエーション剥落へ(9月24日)／商船三井(9...   2010/9/24   \n",
       "1   川崎汽船（9107）    川崎汽船：コンテナ事業の影響大きく株価は上値の重い展開を予想(9月24日)／川崎船(9107)   2010/9/24   \n",
       "2   日本郵船（9101）     日本郵船：10年ぶりのROE逆転でバリュエーション格差解消へ(9月24日)／郵船(9101)   2010/9/24   \n",
       "3   川崎汽船（9107）           川崎汽船：2Q決算は会社計画比小幅上振れを予想(9月29日)／川崎船(9107)   2010/9/29   \n",
       "4  伊藤忠商事（8001）  伊藤忠商事：バランス型でディフェンシブ。中国中心にアジアの商圏拡大先行(10月1日)／伊藤忠...   2010/10/1   \n",
       "\n",
       "      analyst rating rating_change  \\\n",
       "0  板?ｱ王亮/星川織乃      2          新規格付   \n",
       "1  板?ｱ王亮/星川織乃      2          新規格付   \n",
       "2  板?ｱ王亮/星川織乃      1          新規格付   \n",
       "3  板?ｱ王亮/星川織乃      2          変更無し   \n",
       "4   村上貴史/柴山友希      2          新規格付   \n",
       "\n",
       "                                         file_name  \\\n",
       "0  ../data/individual_stock/0/2010111013342300.txt   \n",
       "1  ../data/individual_stock/0/2010111013346000.txt   \n",
       "2  ../data/individual_stock/0/2010111013349200.txt   \n",
       "3  ../data/individual_stock/0/2010111013350800.txt   \n",
       "4  ../data/individual_stock/0/2010111013358500.txt   \n",
       "\n",
       "                                                text  \\\n",
       "0   \\nReport /日本  /運輸･倉庫 \\n\\n商船三井（9104） \\n新規カバレッジ...   \n",
       "1   \\nReport /日本  /運輸･倉庫 \\n\\n川崎汽船（9107） \\n新規カバレッジ...   \n",
       "2   \\nReport /日本  /運輸･倉庫 \\n\\n日本郵船（9101） \\n新規カバレッジ...   \n",
       "3   \\nPreview /日本  /運輸･倉庫 \\n\\n川崎汽船（9107） \\n決算プレビュ...   \n",
       "4   \\nReport /日本  /商社 \\n\\n伊藤忠商事（8001） \\n新規カバレッジ \\...   \n",
       "\n",
       "                                    wakati_file_name  \\\n",
       "0  ../data/individual_stock/0/2010111013342300_wa...   \n",
       "1  ../data/individual_stock/0/2010111013346000_wa...   \n",
       "2  ../data/individual_stock/0/2010111013349200_wa...   \n",
       "3  ../data/individual_stock/0/2010111013350800_wa...   \n",
       "4  ../data/individual_stock/0/2010111013358500_wa...   \n",
       "\n",
       "                                         wakati_text  \n",
       "0  Report / 日本 / 運輸 ･ 倉庫 商船 三井 （ 9104 ） 新規 カバレッジ ...  \n",
       "1  Report / 日本 / 運輸 ･ 倉庫 川崎汽船 （ 9107 ） 新規 カバレッジ コ...  \n",
       "2  Report / 日本 / 運輸 ･ 倉庫 日本郵船 （ 9101 ） 新規 カバレッジ 1...  \n",
       "3  Preview / 日本 / 運輸 ･ 倉庫 川崎汽船 （ 9107 ） 決算 プレビュー ...  \n",
       "4  Report / 日本 / 商社 伊藤忠商事 （ 8001 ） 新規 カバレッジ バランス ...  "
      ]
     },
     "execution_count": 6,
     "metadata": {},
     "output_type": "execute_result"
    }
   ],
   "source": [
    "df.head()"
   ]
  },
  {
   "cell_type": "markdown",
   "metadata": {},
   "source": [
    "分かち書きした文章をテキストファイルとして出力する"
   ]
  },
  {
   "cell_type": "code",
   "execution_count": 7,
   "metadata": {
    "collapsed": false
   },
   "outputs": [],
   "source": [
    "for wakati, text in zip(df.wakati_file_name, df.wakati_text):\n",
    "    f = open(wakati, mode=\"w\")\n",
    "    f.write(text)\n",
    "    f.close()"
   ]
  },
  {
   "cell_type": "markdown",
   "metadata": {},
   "source": [
    "全テキストファイルを1つのテキストファイルに集約する"
   ]
  },
  {
   "cell_type": "code",
   "execution_count": 8,
   "metadata": {
    "collapsed": false
   },
   "outputs": [],
   "source": [
    "text = \"\"\n",
    "for wakati_text in df.wakati_text:\n",
    "    text += wakati_text\n",
    "\n",
    "f = open(\"../data/data.txt\", mode=\"w\")\n",
    "f.write(text)\n",
    "f.close()"
   ]
  },
  {
   "cell_type": "code",
   "execution_count": 11,
   "metadata": {
    "collapsed": true
   },
   "outputs": [],
   "source": [
    "text = \"\"\n",
    "for wakati_text in df.wakati_text[:10]:\n",
    "    text += wakati_text\n",
    "\n",
    "f = open(\"../data/data_light.txt\", mode=\"w\")\n",
    "f.write(text)\n",
    "f.close()"
   ]
  },
  {
   "cell_type": "code",
   "execution_count": 12,
   "metadata": {
    "collapsed": true
   },
   "outputs": [],
   "source": [
    "text = \"\"\n",
    "for wakati_text in df.wakati_text[:1000]:\n",
    "    text += wakati_text\n",
    "\n",
    "f = open(\"../data/data_middle.txt\", mode=\"w\")\n",
    "f.write(text)\n",
    "f.close()"
   ]
  },
  {
   "cell_type": "markdown",
   "metadata": {},
   "source": [
    "main.pyにてWord2Vecの学習を行う\n",
    "➞modelフォルダに学習済みモデルを保存する"
   ]
  }
 ],
 "metadata": {
  "anaconda-cloud": {},
  "kernelspec": {
   "display_name": "Python [default]",
   "language": "python",
   "name": "python3"
  },
  "language_info": {
   "codemirror_mode": {
    "name": "ipython",
    "version": 3
   },
   "file_extension": ".py",
   "mimetype": "text/x-python",
   "name": "python",
   "nbconvert_exporter": "python",
   "pygments_lexer": "ipython3",
   "version": "3.5.2"
  }
 },
 "nbformat": 4,
 "nbformat_minor": 1
}
